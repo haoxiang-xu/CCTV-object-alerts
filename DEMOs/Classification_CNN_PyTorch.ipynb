{
 "cells": [
  {
   "cell_type": "code",
   "execution_count": 24,
   "metadata": {},
   "outputs": [],
   "source": [
    "import torch\n",
    "import torchvision\n",
    "from torchvision import datasets, models, transforms\n",
    "from torch.utils.data import DataLoader, random_split\n",
    "from torch import nn, optim\n",
    "\n",
    "transform = transforms.Compose([\n",
    "    transforms.Resize((224, 224)),\n",
    "    transforms.ToTensor(),\n",
    "    transforms.Normalize(mean=[0.485, 0.456, 0.406], std=[0.229, 0.224, 0.225]),\n",
    "])\n",
    "\n",
    "device = torch.device(\"cuda\" if torch.cuda.is_available() else \"cpu\")\n",
    "data_dir = '../DATA'\n",
    "full_dataset = datasets.ImageFolder(data_dir, transform=transform)\n",
    "\n",
    "# Splitting the dataset into train and validation sets\n",
    "train_size = int(0.8 * len(full_dataset))  # 80% of dataset is train\n",
    "val_size = len(full_dataset) - train_size  # Remaining is validation\n",
    "\n",
    "train_dataset, val_dataset = random_split(full_dataset, [train_size, val_size])\n",
    "\n",
    "# Creating data loaders for train and validation sets\n",
    "train_loader = DataLoader(train_dataset, batch_size=32, shuffle=True)\n",
    "val_loader = DataLoader(val_dataset, batch_size=32, shuffle=False)\n",
    "\n",
    "def build_model():\n",
    "    base_model = models.resnet50(pretrained=True)\n",
    "    for param in base_model.parameters():\n",
    "        param.requires_grad = False\n",
    "\n",
    "    num_features = base_model.fc.in_features\n",
    "    base_model.fc = nn.Sequential(\n",
    "        nn.Linear(num_features, 1),\n",
    "        nn.Sigmoid()\n",
    "    )\n",
    "    return base_model.to(device)"
   ]
  },
  {
   "cell_type": "code",
   "execution_count": 25,
   "metadata": {},
   "outputs": [],
   "source": [
    "model = build_model()"
   ]
  },
  {
   "cell_type": "code",
   "execution_count": 28,
   "metadata": {},
   "outputs": [],
   "source": [
    "# Set the loss function and optimizer\n",
    "criterion = nn.BCELoss()\n",
    "optimizer = optim.Adam(model.fc.parameters(), lr=0.001)"
   ]
  },
  {
   "cell_type": "code",
   "execution_count": 66,
   "metadata": {},
   "outputs": [
    {
     "name": "stdout",
     "output_type": "stream",
     "text": [
      "Epoch 1, Loss: 0.6175, Accuracy: 35.27%\n",
      "Epoch 2, Loss: 0.6196, Accuracy: 35.27%\n",
      "Epoch 3, Loss: 0.6206, Accuracy: 35.27%\n",
      "Epoch 4, Loss: 0.6199, Accuracy: 35.27%\n",
      "Epoch 5, Loss: 0.6187, Accuracy: 35.27%\n",
      "Epoch 6, Loss: 0.6208, Accuracy: 35.27%\n",
      "Epoch 7, Loss: 0.6204, Accuracy: 35.27%\n",
      "Epoch 8, Loss: 0.6209, Accuracy: 35.27%\n",
      "Epoch 9, Loss: 0.6201, Accuracy: 35.27%\n",
      "Epoch 10, Loss: 0.6195, Accuracy: 35.27%\n",
      "Epoch 11, Loss: 0.6194, Accuracy: 35.27%\n",
      "Epoch 12, Loss: 0.6201, Accuracy: 35.27%\n",
      "Epoch 13, Loss: 0.6222, Accuracy: 35.27%\n",
      "Epoch 14, Loss: 0.6226, Accuracy: 35.27%\n",
      "Epoch 15, Loss: 0.6206, Accuracy: 35.27%\n",
      "Epoch 16, Loss: 0.6179, Accuracy: 35.27%\n",
      "Epoch 17, Loss: 0.6205, Accuracy: 35.27%\n",
      "Epoch 18, Loss: 0.6187, Accuracy: 35.27%\n",
      "Epoch 19, Loss: 0.6188, Accuracy: 35.27%\n",
      "Epoch 20, Loss: 0.6203, Accuracy: 35.27%\n",
      "Epoch 21, Loss: 0.6198, Accuracy: 35.27%\n",
      "Epoch 22, Loss: 0.6215, Accuracy: 35.27%\n",
      "Epoch 23, Loss: 0.6172, Accuracy: 35.27%\n",
      "Epoch 24, Loss: 0.6184, Accuracy: 35.27%\n",
      "Epoch 25, Loss: 0.6203, Accuracy: 35.27%\n",
      "Epoch 26, Loss: 0.6210, Accuracy: 35.27%\n",
      "Epoch 27, Loss: 0.6197, Accuracy: 35.27%\n",
      "Epoch 28, Loss: 0.6192, Accuracy: 35.27%\n",
      "Epoch 29, Loss: 0.6195, Accuracy: 35.27%\n",
      "Epoch 30, Loss: 0.6186, Accuracy: 35.27%\n",
      "Epoch 31, Loss: 0.6204, Accuracy: 35.27%\n",
      "Epoch 32, Loss: 0.6209, Accuracy: 35.27%\n"
     ]
    }
   ],
   "source": [
    "import torch.nn.functional as F\n",
    "\n",
    "for epoch in range(32):\n",
    "    model.train()\n",
    "    running_loss = 0.0\n",
    "    correct = 0\n",
    "    total = 0\n",
    "\n",
    "    for inputs, labels in train_loader:\n",
    "        inputs, labels = inputs.to(device), labels.to(device)\n",
    "        optimizer.zero_grad()\n",
    "        outputs = model(inputs)\n",
    "        outputs = torch.sigmoid(outputs).squeeze()  # Apply sigmoid and squeeze\n",
    "        loss = criterion(outputs, labels.float())  # Ensure labels are float\n",
    "        loss.backward()\n",
    "        optimizer.step()\n",
    "\n",
    "        running_loss += loss.item() * inputs.size(0)\n",
    "        predicted = (outputs > 0.5).float()  # Outputs are already float, just threshold\n",
    "        total += labels.size(0)\n",
    "        correct += predicted.eq(labels.float()).sum().item()  # Ensure labels are float for comparison\n",
    "\n",
    "    epoch_loss = running_loss / len(train_loader.dataset)\n",
    "    epoch_accuracy = 100. * correct / total\n",
    "    print(f'Epoch {epoch+1}, Loss: {epoch_loss:.4f}, Accuracy: {epoch_accuracy:.2f}%')"
   ]
  },
  {
   "cell_type": "code",
   "execution_count": 62,
   "metadata": {},
   "outputs": [],
   "source": [
    "torch.save(model.state_dict(), '../MODELs/classification_resnet50.pth')"
   ]
  },
  {
   "cell_type": "code",
   "execution_count": 63,
   "metadata": {},
   "outputs": [
    {
     "data": {
      "text/plain": [
       "<All keys matched successfully>"
      ]
     },
     "execution_count": 63,
     "metadata": {},
     "output_type": "execute_result"
    }
   ],
   "source": [
    "model.load_state_dict(torch.load('../MODELs/classification_resnet50.pth'))"
   ]
  },
  {
   "cell_type": "code",
   "execution_count": 69,
   "metadata": {},
   "outputs": [
    {
     "name": "stdout",
     "output_type": "stream",
     "text": [
      "Predicted Class: Positive, Probability: 0.5737998485565186\n"
     ]
    }
   ],
   "source": [
    "# Load the image and apply transformations\n",
    "from PIL import Image\n",
    "import torchvision.transforms as transforms\n",
    "\n",
    "transform = transforms.Compose([\n",
    "    transforms.Resize((224, 224)),\n",
    "    transforms.ToTensor(),\n",
    "    transforms.Normalize(mean=[0.485, 0.456, 0.406], std=[0.229, 0.224, 0.225])\n",
    "])\n",
    "\n",
    "img_path = '../DATA/negative/person_patch_20240427_183537_271742_0.93.png'\n",
    "image = Image.open(img_path)\n",
    "input_tensor = transform(image).unsqueeze(0)  # Add a batch dimension\n",
    "\n",
    "# Move the input tensor to the same device as the model\n",
    "input_tensor = input_tensor.to(device)\n",
    "\n",
    "# Make the prediction\n",
    "with torch.no_grad():\n",
    "    output = model(input_tensor)\n",
    "\n",
    "# Assuming the output is a single value for binary classification\n",
    "prob = torch.sigmoid(output)\n",
    "threshold = 0.5\n",
    "predicted_class = 'Positive' if prob >= threshold else 'Negative'\n",
    "print(f'Predicted Class: {predicted_class}, Probability: {prob.item()}')\n"
   ]
  }
 ],
 "metadata": {
  "kernelspec": {
   "display_name": "LOCAL_ENV",
   "language": "python",
   "name": "python3"
  },
  "language_info": {
   "codemirror_mode": {
    "name": "ipython",
    "version": 3
   },
   "file_extension": ".py",
   "mimetype": "text/x-python",
   "name": "python",
   "nbconvert_exporter": "python",
   "pygments_lexer": "ipython3",
   "version": "3.12.1"
  }
 },
 "nbformat": 4,
 "nbformat_minor": 2
}
