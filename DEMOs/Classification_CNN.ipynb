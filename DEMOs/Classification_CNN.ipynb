{
 "cells": [
  {
   "cell_type": "code",
   "execution_count": 1,
   "metadata": {},
   "outputs": [],
   "source": [
    "import os\n",
    "import numpy as np\n",
    "import tensorflow as tf\n",
    "from tensorflow.keras.preprocessing.image import ImageDataGenerator\n",
    "from tensorflow.keras.preprocessing import image\n",
    "from tensorflow.keras.applications.resnet50 import preprocess_input\n",
    "from tensorflow.keras.applications import ResNet50\n",
    "from tensorflow.keras.layers import Dense, GlobalAveragePooling2D\n",
    "from tensorflow.keras.models import Model\n",
    "from tensorflow.keras.optimizers import Adam"
   ]
  },
  {
   "cell_type": "code",
   "execution_count": 2,
   "metadata": {},
   "outputs": [],
   "source": [
    "def load_and_preprocess_data(directory, target_size=(224, 224)):\n",
    "    datagen = ImageDataGenerator(rescale=1./255, validation_split=0.2)  # Normalize and split data\n",
    "\n",
    "    train_generator = datagen.flow_from_directory(\n",
    "        directory,\n",
    "        target_size=target_size,  # Resizing all images to this size\n",
    "        batch_size=32,\n",
    "        class_mode='binary',\n",
    "        subset='training'\n",
    "    )\n",
    "    \n",
    "    validation_generator = datagen.flow_from_directory(\n",
    "        directory,\n",
    "        target_size=target_size,  # Resizing all images to this size\n",
    "        batch_size=32,\n",
    "        class_mode='binary',\n",
    "        subset='validation'\n",
    "    )\n",
    "    return train_generator, validation_generator"
   ]
  },
  {
   "cell_type": "code",
   "execution_count": 4,
   "metadata": {},
   "outputs": [],
   "source": [
    "def build_model():\n",
    "    base_model = ResNet50(weights='imagenet', include_top=False)\n",
    "    x = base_model.output\n",
    "    x = GlobalAveragePooling2D()(x)\n",
    "    predictions = Dense(1, activation='sigmoid')(x)\n",
    "    model = Model(inputs=base_model.input, outputs=predictions)\n",
    "    \n",
    "    # Freeze all layers of the base model\n",
    "    for layer in base_model.layers:\n",
    "        layer.trainable = False\n",
    "    \n",
    "    # Update this line with the corrected parameter name\n",
    "    model.compile(optimizer=Adam(learning_rate=0.001), loss='binary_crossentropy', metrics=['accuracy'])\n",
    "    return model"
   ]
  },
  {
   "cell_type": "code",
   "execution_count": 5,
   "metadata": {},
   "outputs": [],
   "source": [
    "model = build_model()"
   ]
  },
  {
   "cell_type": "code",
   "execution_count": 8,
   "metadata": {},
   "outputs": [
    {
     "name": "stdout",
     "output_type": "stream",
     "text": [
      "Found 1450 images belonging to 2 classes.\n",
      "Found 362 images belonging to 2 classes.\n"
     ]
    }
   ],
   "source": [
    "train_data, val_data = load_and_preprocess_data('../DATA')"
   ]
  },
  {
   "cell_type": "code",
   "execution_count": 20,
   "metadata": {},
   "outputs": [
    {
     "name": "stdout",
     "output_type": "stream",
     "text": [
      "Epoch 1/16\n",
      "\u001b[1m46/46\u001b[0m \u001b[32m━━━━━━━━━━━━━━━━━━━━\u001b[0m\u001b[37m\u001b[0m \u001b[1m28s\u001b[0m 600ms/step - accuracy: 0.8023 - loss: 0.4122 - val_accuracy: 0.6077 - val_loss: 0.7671\n",
      "Epoch 2/16\n",
      "\u001b[1m46/46\u001b[0m \u001b[32m━━━━━━━━━━━━━━━━━━━━\u001b[0m\u001b[37m\u001b[0m \u001b[1m27s\u001b[0m 592ms/step - accuracy: 0.8119 - loss: 0.4222 - val_accuracy: 0.6133 - val_loss: 0.7714\n",
      "Epoch 3/16\n",
      "\u001b[1m46/46\u001b[0m \u001b[32m━━━━━━━━━━━━━━━━━━━━\u001b[0m\u001b[37m\u001b[0m \u001b[1m27s\u001b[0m 590ms/step - accuracy: 0.8120 - loss: 0.4033 - val_accuracy: 0.5718 - val_loss: 0.7757\n",
      "Epoch 4/16\n",
      "\u001b[1m46/46\u001b[0m \u001b[32m━━━━━━━━━━━━━━━━━━━━\u001b[0m\u001b[37m\u001b[0m \u001b[1m27s\u001b[0m 590ms/step - accuracy: 0.8222 - loss: 0.3956 - val_accuracy: 0.6077 - val_loss: 0.7668\n",
      "Epoch 5/16\n",
      "\u001b[1m46/46\u001b[0m \u001b[32m━━━━━━━━━━━━━━━━━━━━\u001b[0m\u001b[37m\u001b[0m \u001b[1m27s\u001b[0m 591ms/step - accuracy: 0.8248 - loss: 0.3840 - val_accuracy: 0.6133 - val_loss: 0.7677\n",
      "Epoch 6/16\n",
      "\u001b[1m46/46\u001b[0m \u001b[32m━━━━━━━━━━━━━━━━━━━━\u001b[0m\u001b[37m\u001b[0m \u001b[1m27s\u001b[0m 591ms/step - accuracy: 0.8195 - loss: 0.3893 - val_accuracy: 0.6022 - val_loss: 0.7688\n",
      "Epoch 7/16\n",
      "\u001b[1m46/46\u001b[0m \u001b[32m━━━━━━━━━━━━━━━━━━━━\u001b[0m\u001b[37m\u001b[0m \u001b[1m27s\u001b[0m 590ms/step - accuracy: 0.8276 - loss: 0.3975 - val_accuracy: 0.5801 - val_loss: 0.7714\n",
      "Epoch 8/16\n",
      "\u001b[1m46/46\u001b[0m \u001b[32m━━━━━━━━━━━━━━━━━━━━\u001b[0m\u001b[37m\u001b[0m \u001b[1m27s\u001b[0m 592ms/step - accuracy: 0.8063 - loss: 0.4190 - val_accuracy: 0.6160 - val_loss: 0.7698\n",
      "Epoch 9/16\n",
      "\u001b[1m46/46\u001b[0m \u001b[32m━━━━━━━━━━━━━━━━━━━━\u001b[0m\u001b[37m\u001b[0m \u001b[1m27s\u001b[0m 592ms/step - accuracy: 0.8041 - loss: 0.4025 - val_accuracy: 0.5718 - val_loss: 0.7779\n",
      "Epoch 10/16\n",
      "\u001b[1m46/46\u001b[0m \u001b[32m━━━━━━━━━━━━━━━━━━━━\u001b[0m\u001b[37m\u001b[0m \u001b[1m27s\u001b[0m 591ms/step - accuracy: 0.8282 - loss: 0.4023 - val_accuracy: 0.6133 - val_loss: 0.7761\n",
      "Epoch 11/16\n",
      "\u001b[1m46/46\u001b[0m \u001b[32m━━━━━━━━━━━━━━━━━━━━\u001b[0m\u001b[37m\u001b[0m \u001b[1m27s\u001b[0m 591ms/step - accuracy: 0.8287 - loss: 0.3890 - val_accuracy: 0.5856 - val_loss: 0.7699\n",
      "Epoch 12/16\n",
      "\u001b[1m46/46\u001b[0m \u001b[32m━━━━━━━━━━━━━━━━━━━━\u001b[0m\u001b[37m\u001b[0m \u001b[1m27s\u001b[0m 590ms/step - accuracy: 0.8238 - loss: 0.3983 - val_accuracy: 0.6050 - val_loss: 0.7675\n",
      "Epoch 13/16\n",
      "\u001b[1m46/46\u001b[0m \u001b[32m━━━━━━━━━━━━━━━━━━━━\u001b[0m\u001b[37m\u001b[0m \u001b[1m27s\u001b[0m 591ms/step - accuracy: 0.8286 - loss: 0.3874 - val_accuracy: 0.6160 - val_loss: 0.7689\n",
      "Epoch 14/16\n",
      "\u001b[1m46/46\u001b[0m \u001b[32m━━━━━━━━━━━━━━━━━━━━\u001b[0m\u001b[37m\u001b[0m \u001b[1m27s\u001b[0m 591ms/step - accuracy: 0.8109 - loss: 0.3922 - val_accuracy: 0.6077 - val_loss: 0.7691\n",
      "Epoch 15/16\n",
      "\u001b[1m46/46\u001b[0m \u001b[32m━━━━━━━━━━━━━━━━━━━━\u001b[0m\u001b[37m\u001b[0m \u001b[1m27s\u001b[0m 592ms/step - accuracy: 0.8011 - loss: 0.4026 - val_accuracy: 0.5497 - val_loss: 0.7966\n",
      "Epoch 16/16\n",
      "\u001b[1m46/46\u001b[0m \u001b[32m━━━━━━━━━━━━━━━━━━━━\u001b[0m\u001b[37m\u001b[0m \u001b[1m27s\u001b[0m 592ms/step - accuracy: 0.8300 - loss: 0.3923 - val_accuracy: 0.5884 - val_loss: 0.7702\n"
     ]
    },
    {
     "data": {
      "text/plain": [
       "<keras.src.callbacks.history.History at 0x21d266f3c50>"
      ]
     },
     "execution_count": 20,
     "metadata": {},
     "output_type": "execute_result"
    }
   ],
   "source": [
    "model.fit(train_data, epochs=16, validation_data=val_data)"
   ]
  },
  {
   "cell_type": "code",
   "execution_count": 59,
   "metadata": {},
   "outputs": [],
   "source": [
    "model.save_weights('../MODELs/classification_resnet50.weights.h5')"
   ]
  },
  {
   "cell_type": "code",
   "execution_count": 14,
   "metadata": {},
   "outputs": [],
   "source": [
    "model.load_weights('../MODELs/classification_resnet50.weights.h5')"
   ]
  },
  {
   "cell_type": "code",
   "execution_count": 15,
   "metadata": {},
   "outputs": [],
   "source": [
    "def load_and_preprocess_image(img_path, target_size=(224, 224)):\n",
    "    img = image.load_img(img_path, target_size=target_size)\n",
    "    img_array = image.img_to_array(img)\n",
    "    img_array_expanded = np.expand_dims(img_array, axis=0)  # Model expects a batch\n",
    "    return preprocess_input(img_array_expanded)\n",
    "def predict_image(model, processed_image):\n",
    "    prediction = model.predict(processed_image)\n",
    "    return prediction\n",
    "def interpret_prediction(prediction, threshold=0.5):\n",
    "    if prediction[0][0] > threshold:\n",
    "        return \"Positive (wearing uniform)\"\n",
    "    else:\n",
    "        return \"Negative (not wearing uniform)\""
   ]
  },
  {
   "cell_type": "code",
   "execution_count": 21,
   "metadata": {},
   "outputs": [
    {
     "name": "stdout",
     "output_type": "stream",
     "text": [
      "\u001b[1m1/1\u001b[0m \u001b[32m━━━━━━━━━━━━━━━━━━━━\u001b[0m\u001b[37m\u001b[0m \u001b[1m0s\u001b[0m 51ms/step\n",
      "Negative (not wearing uniform)\n"
     ]
    }
   ],
   "source": [
    "img_path = '../DATA/positive/person_patch_20240427_203351_137164_0.77.png'\n",
    "processed_image = load_and_preprocess_image(img_path)\n",
    "prediction = predict_image(model, processed_image)\n",
    "result = interpret_prediction(prediction)\n",
    "print(result)"
   ]
  }
 ],
 "metadata": {
  "kernelspec": {
   "display_name": "LOCAL_ENV",
   "language": "python",
   "name": "python3"
  },
  "language_info": {
   "codemirror_mode": {
    "name": "ipython",
    "version": 3
   },
   "file_extension": ".py",
   "mimetype": "text/x-python",
   "name": "python",
   "nbconvert_exporter": "python",
   "pygments_lexer": "ipython3",
   "version": "3.12.1"
  }
 },
 "nbformat": 4,
 "nbformat_minor": 2
}
