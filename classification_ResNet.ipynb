{
 "cells": [
  {
   "cell_type": "markdown",
   "metadata": {},
   "source": [
    "##### Define Classification ResNet Model Structures"
   ]
  },
  {
   "cell_type": "markdown",
   "metadata": {},
   "source": [
    "Build ResNet Model\n",
    "\n",
    "###### [model_size] PyTorch's torchvision library includes pre-trained versions of the ResNet model. By defining this variable you can load different variants like ResNet18, ResNet50, and ResNet101<br>[fine_tune] This loop iterates over all parameters in the ResNet50 model and sets requires_grad to False. By doing so, these parameters will not be updated during training. This is known as \"freezing\" the model and is common when fine-tuning a pre-trained model on a relatively small new dataset. It helps prevent overfitting by not allowing the learned features from ImageNet to be modified too much."
   ]
  },
  {
   "cell_type": "code",
   "execution_count": 3,
   "metadata": {},
   "outputs": [],
   "source": [
    "import torchvision.models as models\n",
    "import torch\n",
    "import os\n",
    "\n",
    "os.environ['TORCH_HOME'] = './MODELs'\n",
    "\n",
    "def build_binary_classification_resnet_model(model_size = 'resnet18', fine_tune = False):\n",
    "    device = torch.device(\"cuda\" if torch.cuda.is_available() else \"cpu\")\n",
    "    \n",
    "    if model_size == 'resnet18':\n",
    "        model = models.resnet18(pretrained=True)\n",
    "    elif model_size == 'resnet50':\n",
    "        model = models.resnet50(pretrained=True)\n",
    "    elif model_size == 'resnet101':\n",
    "        model = models.resnet101(pretrained=True)\n",
    "    else:\n",
    "        model = models.resnet18(pretrained=True)\n",
    "    \n",
    "    if fine_tune:\n",
    "        for param in model.parameters():\n",
    "            param.requires_grad = False\n",
    "    \n",
    "    num_features = model.fc.in_features\n",
    "    model.fc = torch.nn.Sequential(\n",
    "        torch.nn.Linear(num_features, 1),\n",
    "        torch.nn.Sigmoid()\n",
    "    )\n",
    "    return model.to(device)     "
   ]
  },
  {
   "cell_type": "markdown",
   "metadata": {},
   "source": [
    "Get Training Set and Testing Set Ready\n",
    "\n",
    "###### [Transforms] Ensure all images are the same size and format for the model. Normalization parameters are standard for models trained on ImageNet.<br>[ImageFolder] Loads images and labels from a directory structure where each subdirectory represents a class.<br>[random_split] Splits the dataset into training and testing sets.<br>[DataLoader] Batches, shuffles, and loads the data in parallel using worker processes."
   ]
  },
  {
   "cell_type": "code",
   "execution_count": 26,
   "metadata": {},
   "outputs": [
    {
     "name": "stdout",
     "output_type": "stream",
     "text": [
      "negative (label=0): 954 images\n",
      "positive (label=1): 933 images\n"
     ]
    }
   ],
   "source": [
    "from torchvision import transforms\n",
    "from torchvision.datasets import ImageFolder\n",
    "from torch.utils.data import random_split\n",
    "from torch.utils.data import DataLoader\n",
    "from collections import Counter\n",
    "\n",
    "transform = transforms.Compose([\n",
    "    transforms.Resize((224, 224)),\n",
    "    transforms.ToTensor(),\n",
    "    transforms.Normalize(mean=[0.485, 0.456, 0.406], std=[0.229, 0.224, 0.225])\n",
    "])\n",
    "\n",
    "dataset = ImageFolder(root='./DATA', transform=transform)\n",
    "\n",
    "train_size = int(0.8 * len(dataset))  # 80% of the dataset for training\n",
    "test_size = len(dataset) - train_size  # 20% of the dataset for testing\n",
    "train_dataset, test_dataset = random_split(dataset, [train_size, test_size])\n",
    "\n",
    "train_loader = DataLoader(train_dataset, batch_size=32, shuffle=True)\n",
    "test_loader = DataLoader(test_dataset, batch_size=32, shuffle=False)\n",
    "\n",
    "class_counts = Counter()\n",
    "for _, label in dataset:\n",
    "    class_counts[label] += 1\n",
    "label_mapping = {0: 'negative', 1: 'positive'}\n",
    "for label, count in class_counts.items():\n",
    "    print(f'{label_mapping[label]} (label={label}): {count} images')"
   ]
  },
  {
   "cell_type": "markdown",
   "metadata": {},
   "source": [
    "Get Training and Evaluation Functions Ready for ResNet Model\n",
    "\n",
    "###### [Training]Here’s how you can set up a basic training loop to iterate through the training data, compute the loss, and update the model parameters.<br>[Evaluation]After training, it's important to evaluate your model on the test set to see how well it generalizes. This step involves calculating the accuracy or other relevant metrics without updating the model parameters."
   ]
  },
  {
   "cell_type": "code",
   "execution_count": 4,
   "metadata": {},
   "outputs": [],
   "source": [
    "def train_model(model, train_loader, optimizer, loss_function, num_epochs=10):\n",
    "    device = torch.device(\"cuda\" if torch.cuda.is_available() else \"cpu\")\n",
    "    model.train()\n",
    "    for epoch in range(num_epochs):\n",
    "        running_loss = 0.0\n",
    "        for images, labels in train_loader:\n",
    "            images, labels = images.to(device), labels.to(device).float().view(-1, 1)\n",
    "            optimizer.zero_grad()\n",
    "            outputs = model(images)\n",
    "            loss = loss_function(outputs, labels)\n",
    "            loss.backward()  # Backward pass\n",
    "            optimizer.step()  # Optimize the model\n",
    "            \n",
    "            running_loss += loss.item()\n",
    "        \n",
    "        print(f\"Epoch {epoch + 1}, Loss: {running_loss / len(train_loader)}\")"
   ]
  },
  {
   "cell_type": "code",
   "execution_count": 5,
   "metadata": {},
   "outputs": [],
   "source": [
    "def evaluate_model(model, test_loader):\n",
    "    device = torch.device(\"cuda\" if torch.cuda.is_available() else \"cpu\")\n",
    "    model.eval()\n",
    "    correct = 0\n",
    "    total = 0\n",
    "    with torch.no_grad():\n",
    "        for images, labels in test_loader:\n",
    "            images, labels = images.to(device), labels.to(device).float().view(-1, 1)\n",
    "            outputs = model(images)\n",
    "            predicted = outputs.round()\n",
    "            total += labels.size(0)\n",
    "            correct += (predicted == labels).sum().item()\n",
    "\n",
    "    accuracy = 100 * correct / total\n",
    "    print(f'Accuracy on the test set: {accuracy:.2f}%')"
   ]
  },
  {
   "cell_type": "markdown",
   "metadata": {},
   "source": [
    "Compute Accuracy over the entire ./DATA folder\n",
    "\n",
    "###### [predict_image] Preprocesses an image and gets a prediction from the model.<br>[compute_accuracy] Loops through the \"positive\" and \"negative\" folders, uses the model to predict the label for each image, and computes the accuracy."
   ]
  },
  {
   "cell_type": "code",
   "execution_count": 6,
   "metadata": {},
   "outputs": [],
   "source": [
    "def predict_image(model, image_path):\n",
    "    transform = transforms.Compose([\n",
    "        transforms.Resize((224, 224)),\n",
    "        transforms.ToTensor(),\n",
    "        transforms.Normalize(mean=[0.485, 0.456, 0.406], std=[0.229, 0.224, 0.225])\n",
    "    ])\n",
    "    \n",
    "    device = torch.device(\"cuda\" if torch.cuda.is_available() else \"cpu\")\n",
    "    image = Image.open(image_path).convert(\"RGB\")\n",
    "    image = transform(image).unsqueeze(0).to(device)\n",
    "    model.eval()\n",
    "    with torch.no_grad():\n",
    "        output = model(image)\n",
    "        prediction = output.round().item()\n",
    "    return prediction\n",
    "def compute_accuracy(model, data_dir):\n",
    "    correct_predictions = 0\n",
    "    total_images = 0\n",
    "\n",
    "    for label, folder in enumerate(['negative', 'positive']):\n",
    "        folder_path = os.path.join(data_dir, folder)\n",
    "        for image_name in os.listdir(folder_path):\n",
    "            image_path = os.path.join(folder_path, image_name)\n",
    "            prediction = predict_image(model, image_path)\n",
    "            if prediction == label:\n",
    "                correct_predictions += 1\n",
    "            total_images += 1\n",
    "\n",
    "    accuracy = correct_predictions / total_images\n",
    "    print(f'Accuracy: {accuracy:.2%}')"
   ]
  },
  {
   "cell_type": "markdown",
   "metadata": {},
   "source": [
    "Compute Prediction over Random picked Image from ./DATA"
   ]
  },
  {
   "cell_type": "code",
   "execution_count": 7,
   "metadata": {},
   "outputs": [],
   "source": [
    "import os\n",
    "import random\n",
    "from PIL import Image\n",
    "\n",
    "def random_predict_image(model, data_dir, transform):\n",
    "    device = torch.device(\"cuda\" if torch.cuda.is_available() else \"cpu\")\n",
    "    folder = random.choice(['positive', 'negative'])\n",
    "    folder_path = os.path.join(data_dir, folder)\n",
    "\n",
    "    image_files = [f for f in os.listdir(folder_path) if os.path.isfile(os.path.join(folder_path, f))]\n",
    "    if not image_files:\n",
    "        print(f\"No images found in {folder_path}\")\n",
    "        return\n",
    "\n",
    "    image_file = random.choice(image_files)\n",
    "    image_path = os.path.join(folder_path, image_file)\n",
    "\n",
    "    image = Image.open(image_path).convert(\"RGB\")\n",
    "    image = transform(image).unsqueeze(0).to(device)\n",
    "\n",
    "    model.eval()\n",
    "    with torch.no_grad():\n",
    "        output = model(image)\n",
    "        prediction = output.round().item()\n",
    "\n",
    "    actual_label = 1 if folder == 'positive' else 0\n",
    "    print(f\"Picked image: {image_path}\")\n",
    "    print(f\"Actual label: {folder} (label={actual_label})\")\n",
    "    print(f\"Predicted label: {prediction}\")"
   ]
  },
  {
   "cell_type": "markdown",
   "metadata": {},
   "source": [
    "##### Define Model"
   ]
  },
  {
   "cell_type": "code",
   "execution_count": 8,
   "metadata": {},
   "outputs": [
    {
     "name": "stderr",
     "output_type": "stream",
     "text": [
      "k:\\GIT\\CCTV-object-alerts\\LOCAL_ENV\\Lib\\site-packages\\torchvision\\models\\_utils.py:208: UserWarning: The parameter 'pretrained' is deprecated since 0.13 and may be removed in the future, please use 'weights' instead.\n",
      "  warnings.warn(\n",
      "k:\\GIT\\CCTV-object-alerts\\LOCAL_ENV\\Lib\\site-packages\\torchvision\\models\\_utils.py:223: UserWarning: Arguments other than a weight enum or `None` for 'weights' are deprecated since 0.13 and may be removed in the future. The current behavior is equivalent to passing `weights=ResNet18_Weights.IMAGENET1K_V1`. You can also use `weights=ResNet18_Weights.DEFAULT` to get the most up-to-date weights.\n",
      "  warnings.warn(msg)\n"
     ]
    }
   ],
   "source": [
    "import torch\n",
    "import torch.nn as nn\n",
    "import torch.optim as optim\n",
    "from torchvision import models\n",
    "\n",
    "model = build_binary_classification_resnet_model()\n",
    "\n",
    "loss_function = nn.BCELoss()\n",
    "optimizer = optim.Adam(model.parameters(), lr=0.001)"
   ]
  },
  {
   "cell_type": "markdown",
   "metadata": {},
   "source": [
    "##### Load Model"
   ]
  },
  {
   "cell_type": "code",
   "execution_count": 27,
   "metadata": {},
   "outputs": [],
   "source": [
    "device = torch.device(\"cuda\" if torch.cuda.is_available() else \"cpu\")\n",
    "model.load_state_dict(torch.load('./MODELs/officer_classificaiton_resnet18_weights.pth'))\n",
    "model = model.to(device)"
   ]
  },
  {
   "cell_type": "markdown",
   "metadata": {},
   "source": [
    "##### Train and Save Model"
   ]
  },
  {
   "cell_type": "code",
   "execution_count": 31,
   "metadata": {},
   "outputs": [
    {
     "name": "stdout",
     "output_type": "stream",
     "text": [
      "Epoch 1, Loss: 0.2425595581298694\n",
      "Epoch 2, Loss: 0.11992640292737633\n",
      "Accuracy on the test set: 92.86%\n"
     ]
    }
   ],
   "source": [
    "train_model(model, train_loader, optimizer, loss_function, num_epochs=2)\n",
    "evaluate_model(model, test_loader)\n",
    "torch.save(model.state_dict(), './MODELs/officer_classificaiton_resnet18_weights.pth')"
   ]
  },
  {
   "cell_type": "markdown",
   "metadata": {},
   "source": [
    "##### Eval Model"
   ]
  },
  {
   "cell_type": "code",
   "execution_count": 32,
   "metadata": {},
   "outputs": [
    {
     "name": "stdout",
     "output_type": "stream",
     "text": [
      "Accuracy: 98.25%\n"
     ]
    }
   ],
   "source": [
    "compute_accuracy(model, './DATA')"
   ]
  },
  {
   "cell_type": "code",
   "execution_count": 34,
   "metadata": {},
   "outputs": [
    {
     "name": "stdout",
     "output_type": "stream",
     "text": [
      "Picked image: ./DATA\\negative\\person_patch_20240501_171421_966219_0.84.png\n",
      "Actual label: negative (label=0)\n",
      "Predicted label: 0.0\n"
     ]
    }
   ],
   "source": [
    "random_predict_image(model, './DATA', transform)"
   ]
  }
 ],
 "metadata": {
  "kernelspec": {
   "display_name": "LOCAL_ENV",
   "language": "python",
   "name": "python3"
  },
  "language_info": {
   "codemirror_mode": {
    "name": "ipython",
    "version": 3
   },
   "file_extension": ".py",
   "mimetype": "text/x-python",
   "name": "python",
   "nbconvert_exporter": "python",
   "pygments_lexer": "ipython3",
   "version": "3.12.1"
  }
 },
 "nbformat": 4,
 "nbformat_minor": 2
}
